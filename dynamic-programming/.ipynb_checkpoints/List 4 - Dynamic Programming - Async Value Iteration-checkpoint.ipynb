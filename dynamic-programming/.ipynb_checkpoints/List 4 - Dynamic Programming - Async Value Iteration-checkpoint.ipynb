{
 "cells": [
  {
   "cell_type": "code",
   "execution_count": 1,
   "metadata": {
    "collapsed": false
   },
   "outputs": [],
   "source": [
    "import math\n",
    "import numpy as np"
   ]
  },
  {
   "cell_type": "markdown",
   "metadata": {},
   "source": [
    "> All auxiliary files (the gridworld basically) can be accessed on the web in my repo, the link is https://github.com/queirozfcom/statistical-learning/tree/master/dynamic-programming/src\n",
    "\n",
    "> I didn't include them here because it would be too much code"
   ]
  },
  {
   "cell_type": "code",
   "execution_count": 2,
   "metadata": {
    "collapsed": true
   },
   "outputs": [],
   "source": [
    "from src import settings\n",
    "from src.gridworld import evaluate,improve,update_value_greedy,get_policy_from_state_value_function\n",
    "from src.plot import plotv,plotpi"
   ]
  },
  {
   "cell_type": "markdown",
   "metadata": {},
   "source": [
    "## Async Value Iteration"
   ]
  },
  {
   "cell_type": "code",
   "execution_count": 3,
   "metadata": {
    "collapsed": false
   },
   "outputs": [
    {
     "name": "stdout",
     "output_type": "stream",
     "text": [
      "\n",
      "\n",
      "=============================================\n",
      "\n",
      "Total number of observations: 1000\n",
      "\n",
      "Final value function:\n",
      "\n",
      "[[ 13.305   14.783   13.305   13.239   11.915 ]\n",
      " [ 11.974   13.305   11.974   11.915   10.724 ]\n",
      " [ 10.777   11.974   10.777   09.155   08.239 ]\n",
      " [ 09.699   10.777   09.699   08.239   07.415 ]\n",
      " [ 08.729   09.699   07.049   07.415   06.674 ]]\n",
      "\n",
      "Final policy: \n",
      "\n",
      "[['right ' '  up  ' ' left ' '  up  ' ' left ']\n",
      " ['  up  ' '  up  ' '  up  ' '  up  ' '  up  ']\n",
      " ['  up  ' '  up  ' '  up  ' '  up  ' '  up  ']\n",
      " ['  up  ' '  up  ' '  up  ' ' left ' '  up  ']\n",
      " ['  up  ' '  up  ' '  up  ' '  up  ' '  up  ']]\n",
      "\n",
      "\n",
      "=============================================\n",
      "\n",
      "\n"
     ]
    }
   ],
   "source": [
    "settings.init() # set num_observations global variable\n",
    "\n",
    "gamma = 0.90\n",
    "theta = math.pow(10,-5)\n",
    "\n",
    "possible_actions = [1,2,3,4]\n",
    "\n",
    "states = np.array([i for i in range(0,25)])\n",
    "\n",
    "# initial state values: all zeros\n",
    "V = np.zeros(25)\n",
    "\n",
    "i = 0\n",
    "\n",
    "while (True and i < 250):  \n",
    "    old_V = np.copy(V)\n",
    "\n",
    "    s = np.random.choice(states,1)\n",
    "\n",
    "    v = V[s]\n",
    "\n",
    "    V[s] = update_value_greedy(s,possible_actions,old_V,gamma)\n",
    "\n",
    "    i += 1    \n",
    "\n",
    "print(\"\\n\\n=============================================\\n\")\n",
    "print(\"Total number of observations: {0}\\n\".format(settings.num_observations))\n",
    "print(\"Final value function:\\n\")\n",
    "plotv(V)\n",
    "print(\"\\nFinal policy: \\n\")\n",
    "policy = get_policy_from_state_value_function(V,possible_actions,gamma)\n",
    "plotpi(policy)\n",
    "print(\"\\n\\n=============================================\\n\\n\")"
   ]
  },
  {
   "cell_type": "markdown",
   "metadata": {},
   "source": [
    "> The values are **somewhat different** than those form the book but they're still consistent, inasmuch as the highest value is still the highest value, and the lowest value is still the lowest.\n",
    "\n",
    "> The policy is not optimal, but close.\n",
    "\n",
    "![img](http://i.imgur.com/kOG6LlA.png)"
   ]
  }
 ],
 "metadata": {
  "kernelspec": {
   "display_name": "Python 3",
   "language": "python",
   "name": "python3"
  },
  "language_info": {
   "codemirror_mode": {
    "name": "ipython",
    "version": 3
   },
   "file_extension": ".py",
   "mimetype": "text/x-python",
   "name": "python",
   "nbconvert_exporter": "python",
   "pygments_lexer": "ipython3",
   "version": "3.4.3"
  }
 },
 "nbformat": 4,
 "nbformat_minor": 0
}
