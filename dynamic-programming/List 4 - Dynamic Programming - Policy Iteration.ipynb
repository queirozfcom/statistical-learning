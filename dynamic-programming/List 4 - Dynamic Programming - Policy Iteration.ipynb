{
 "cells": [
  {
   "cell_type": "code",
   "execution_count": 1,
   "metadata": {
    "collapsed": false
   },
   "outputs": [],
   "source": [
    "import math\n",
    "import numpy as np"
   ]
  },
  {
   "cell_type": "markdown",
   "metadata": {},
   "source": [
    "> All auxiliary files (the gridworld basically) can be accessed on the web in my repo, the link is https://github.com/queirozfcom/statistical-learning/tree/master/dynamic-programming/src\n",
    "\n",
    "> I didn't include them here because it would be too much code"
   ]
  },
  {
   "cell_type": "code",
   "execution_count": 2,
   "metadata": {
    "collapsed": true
   },
   "outputs": [],
   "source": [
    "from src import settings\n",
    "from src.gridworld import evaluate,improve\n",
    "from src.plot import plotv,plotpi"
   ]
  },
  {
   "cell_type": "markdown",
   "metadata": {},
   "source": [
    "## Policy Iteration"
   ]
  },
  {
   "cell_type": "code",
   "execution_count": 3,
   "metadata": {
    "collapsed": false
   },
   "outputs": [
    {
     "name": "stdout",
     "output_type": "stream",
     "text": [
      "Using gamma = 0.9\n",
      "\n",
      "Total number of observations: 625\n",
      "\n",
      "Final value function:\n",
      "\n",
      "[[ 17.170   21.265   19.139   16.265   14.639 ]\n",
      " [ 15.453   19.139   17.225   15.502   13.952 ]\n",
      " [ 13.908   17.225   15.502   13.952   12.557 ]\n",
      " [ 12.517   15.502   13.952   12.557   11.301 ]\n",
      " [ 11.265   13.952   12.557   11.301   10.171 ]]\n",
      "\n",
      "Final policy: \n",
      "\n",
      "[['right ' '  up  ' ' left ' '  up  ' ' left ']\n",
      " ['right ' '  up  ' '  up  ' ' left ' ' left ']\n",
      " ['right ' '  up  ' '  up  ' '  up  ' '  up  ']\n",
      " ['right ' '  up  ' '  up  ' '  up  ' '  up  ']\n",
      " ['right ' '  up  ' '  up  ' '  up  ' '  up  ']]\n"
     ]
    }
   ],
   "source": [
    "settings.init() # set num_observations global variable\n",
    "\n",
    "gamma = 0.90\n",
    "theta = math.pow(10,-5)\n",
    "\n",
    "possible_actions = [1,2,3,4]\n",
    "\n",
    "# initial value for policy: random sample of the possible actions\n",
    "old_policy = np.random.choice(possible_actions,25)\n",
    "policy = np.random.choice(possible_actions,25)\n",
    "\n",
    "# initial state values: all zeros\n",
    "V = np.zeros(25)\n",
    "\n",
    "while True:\n",
    "    old_policy = np.copy(policy)\n",
    "\n",
    "    V = evaluate(policy,V,gamma,theta,possible_actions)\n",
    "\n",
    "    policy = improve(V,policy,gamma,possible_actions)\n",
    "\n",
    "    if np.array_equal(old_policy,policy):\n",
    "        break\n",
    "\n",
    "\n",
    "print(\"Using gamma = {0}\\n\".format(gamma))\n",
    "print(\"Total number of observations: {0}\\n\".format(settings.num_observations))\n",
    "print(\"Final value function:\\n\")\n",
    "plotv(V)\n",
    "print(\"\\nFinal policy: \\n\")\n",
    "plotpi(policy)"
   ]
  },
  {
   "cell_type": "markdown",
   "metadata": {},
   "source": [
    "The results are slightly different than those in the book;\n",
    "\n",
    "I suspect it's something to do with the way I've used `gamma` in the code; the numbers are, however, consistent with the values in the book, as can be seen in the next picture:\n",
    "\n",
    "> In addition, the **policy I've arrived at is strictly the same as the one in the book**.\n",
    "\n",
    "![img](http://i.imgur.com/kOG6LlA.png)"
   ]
  },
  {
   "cell_type": "markdown",
   "metadata": {},
   "source": [
    "> Using `gamma` = 0.8:"
   ]
  },
  {
   "cell_type": "code",
   "execution_count": 6,
   "metadata": {
    "collapsed": false
   },
   "outputs": [
    {
     "name": "stdout",
     "output_type": "stream",
     "text": [
      "Using gamma = 0.8\n",
      "\n",
      "Total number of observations: 625\n",
      "\n",
      "Final value function:\n",
      "\n",
      "[[ 11.412   14.674   11.739   09.674   07.739 ]\n",
      " [ 09.129   11.739   09.392   07.739   06.192 ]\n",
      " [ 07.303   09.392   07.513   06.192   04.953 ]\n",
      " [ 05.843   07.513   06.011   04.953   03.963 ]\n",
      " [ 04.674   06.011   04.808   03.963   03.170 ]]\n",
      "\n",
      "Final policy: \n",
      "\n",
      "[['right ' '  up  ' ' left ' '  up  ' ' left ']\n",
      " ['right ' '  up  ' '  up  ' '  up  ' '  up  ']\n",
      " ['right ' '  up  ' '  up  ' '  up  ' '  up  ']\n",
      " ['right ' '  up  ' '  up  ' '  up  ' '  up  ']\n",
      " ['right ' '  up  ' '  up  ' '  up  ' '  up  ']]\n"
     ]
    }
   ],
   "source": [
    "settings.init() # set num_observations global variable\n",
    "\n",
    "gamma = 0.80\n",
    "theta = math.pow(10,-5)\n",
    "\n",
    "possible_actions = [1,2,3,4]\n",
    "\n",
    "# initial value for policy: random sample of the possible actions\n",
    "old_policy = np.random.choice(possible_actions,25)\n",
    "policy = np.random.choice(possible_actions,25)\n",
    "\n",
    "# initial state values: all zeros\n",
    "V = np.zeros(25)\n",
    "\n",
    "while True:\n",
    "    old_policy = np.copy(policy)\n",
    "\n",
    "    V = evaluate(policy,V,gamma,theta,possible_actions)\n",
    "\n",
    "    policy = improve(V,policy,gamma,possible_actions)\n",
    "\n",
    "    if np.array_equal(old_policy,policy):\n",
    "        break\n",
    "\n",
    "\n",
    "print(\"Using gamma = {0}\\n\".format(gamma))\n",
    "print(\"Total number of observations: {0}\\n\".format(settings.num_observations))\n",
    "print(\"Final value function:\\n\")\n",
    "plotv(V)\n",
    "print(\"\\nFinal policy: \\n\")\n",
    "plotpi(policy)"
   ]
  },
  {
   "cell_type": "markdown",
   "metadata": {},
   "source": [
    "> When using `gamma` = 0.8, the total number of observations was kept roughly the same; The policy arrived at was slightly different and the state values are lower. "
   ]
  }
 ],
 "metadata": {
  "kernelspec": {
   "display_name": "Python 3",
   "language": "python",
   "name": "python3"
  },
  "language_info": {
   "codemirror_mode": {
    "name": "ipython",
    "version": 3
   },
   "file_extension": ".py",
   "mimetype": "text/x-python",
   "name": "python",
   "nbconvert_exporter": "python",
   "pygments_lexer": "ipython3",
   "version": "3.4.3"
  }
 },
 "nbformat": 4,
 "nbformat_minor": 0
}
