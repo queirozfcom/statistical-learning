{
 "cells": [
  {
   "cell_type": "code",
   "execution_count": 1,
   "metadata": {
    "collapsed": false
   },
   "outputs": [],
   "source": [
    "import math\n",
    "import numpy as np"
   ]
  },
  {
   "cell_type": "markdown",
   "metadata": {},
   "source": [
    "> All auxiliary files (the gridworld basically) can be accessed on the web in my repo, the link is https://github.com/queirozfcom/statistical-learning/tree/master/dynamic-programming/src\n",
    "\n",
    "> I didn't include them here because it would be too much code"
   ]
  },
  {
   "cell_type": "code",
   "execution_count": 2,
   "metadata": {
    "collapsed": true
   },
   "outputs": [],
   "source": [
    "from src import settings\n",
    "from src.gridworld import evaluate,improve,update_value_greedy,get_policy_from_state_value_function\n",
    "from src.plot import plotv,plotpi"
   ]
  },
  {
   "cell_type": "markdown",
   "metadata": {},
   "source": [
    "## Value Iteration"
   ]
  },
  {
   "cell_type": "code",
   "execution_count": 3,
   "metadata": {
    "collapsed": false
   },
   "outputs": [
    {
     "name": "stdout",
     "output_type": "stream",
     "text": [
      "\n",
      "\n",
      "=============================================\n",
      "\n",
      "Total number of observations: 13400\n",
      "\n",
      "Final value function:\n",
      "\n",
      "[[ 21.977   24.419   21.977   19.419   17.477 ]\n",
      " [ 19.780   21.977   19.780   17.802   16.022 ]\n",
      " [ 17.802   19.780   17.802   16.022   14.419 ]\n",
      " [ 16.022   17.802   16.022   14.419   12.977 ]\n",
      " [ 14.419   16.022   14.419   12.977   11.680 ]]\n",
      "\n",
      "Final policy: \n",
      "\n",
      "[['right ' '  up  ' ' left ' '  up  ' ' left ']\n",
      " ['  up  ' '  up  ' '  up  ' ' left ' ' left ']\n",
      " ['  up  ' '  up  ' '  up  ' '  up  ' '  up  ']\n",
      " ['  up  ' '  up  ' '  up  ' '  up  ' '  up  ']\n",
      " ['  up  ' '  up  ' '  up  ' '  up  ' '  up  ']]\n",
      "\n",
      "\n",
      "=============================================\n",
      "\n",
      "\n"
     ]
    }
   ],
   "source": [
    "settings.init() # set num_observations global variable\n",
    "\n",
    "gamma = 0.90\n",
    "theta = math.pow(10,-5)\n",
    "\n",
    "possible_actions = [1,2,3,4]\n",
    "\n",
    "states = np.array([i for i in range(0,25)])\n",
    "\n",
    "# initial state values: all zeros\n",
    "V = np.zeros(25)\n",
    "\n",
    "while True:\n",
    "    old_V = np.copy(V)\n",
    "    for s in states:\n",
    "        v = V[s]\n",
    "        V[s] = update_value_greedy(s,possible_actions,old_V,gamma)\n",
    "\n",
    "    # return true if every element in V and old_V are closer than THETA\n",
    "    # to each other.    \n",
    "    if np.allclose(old_V,V,rtol=0,atol=theta):\n",
    "        break\n",
    "\n",
    "policy = get_policy_from_state_value_function(V,possible_actions,gamma)\n",
    "\n",
    "print(\"\\n\\n=============================================\\n\")\n",
    "print(\"Total number of observations: {0}\\n\".format(settings.num_observations))\n",
    "print(\"Final value function:\\n\")\n",
    "plotv(V)\n",
    "print(\"\\nFinal policy: \\n\")\n",
    "plotpi(policy)\n",
    "print(\"\\n\\n=============================================\\n\\n\")"
   ]
  },
  {
   "cell_type": "markdown",
   "metadata": {},
   "source": [
    "The results **match perfectly those in the book**; ![img](http://i.imgur.com/kOG6LlA.png)"
   ]
  }
 ],
 "metadata": {
  "kernelspec": {
   "display_name": "Python 3",
   "language": "python",
   "name": "python3"
  },
  "language_info": {
   "codemirror_mode": {
    "name": "ipython",
    "version": 3
   },
   "file_extension": ".py",
   "mimetype": "text/x-python",
   "name": "python",
   "nbconvert_exporter": "python",
   "pygments_lexer": "ipython3",
   "version": "3.4.3"
  }
 },
 "nbformat": 4,
 "nbformat_minor": 0
}
